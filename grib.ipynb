{
 "cells": [
  {
   "cell_type": "code",
   "execution_count": 1,
   "id": "478c6e94-7d2d-462b-85da-0ae395d76521",
   "metadata": {},
   "outputs": [],
   "source": [
    "import xarray as xr\n",
    "import numpy as np\n",
    "import matplotlib.pyplot as plt\n",
    "import pygrib\n",
    "import cfgrib\n",
    "import pandas as pd"
   ]
  },
  {
   "cell_type": "code",
   "execution_count": 2,
   "id": "de376a7c-6517-4c4d-b9f7-8ac5f1b64033",
   "metadata": {},
   "outputs": [],
   "source": [
    "#from https://sites.google.com/a/himpactwxlab.com/www/home/how-to-wiki/write-grib2-data-with-pygrib#TOC-Read-grib-grib2-with-PyNIO"
   ]
  },
  {
   "cell_type": "code",
   "execution_count": 3,
   "id": "c78cb8ca-474a-48e5-ad2e-a8e9aa254597",
   "metadata": {},
   "outputs": [],
   "source": [
    "#file = 'adaptor.mars.internal-1671443373.6018586-10985-9-83ca679c-f487-45c5-8b32-3cc121d725c8.grib'\n",
    "\n",
    "#gr = pygrib.open(file)"
   ]
  },
  {
   "cell_type": "code",
   "execution_count": 4,
   "id": "6a576581-bf45-4352-a9cf-d77cce9b7d1d",
   "metadata": {},
   "outputs": [],
   "source": [
    "#for g in gr:\n",
    "#    print (g)"
   ]
  },
  {
   "cell_type": "code",
   "execution_count": 5,
   "id": "2ce19952-d6d0-440b-bd54-ee7f4b357bba",
   "metadata": {},
   "outputs": [],
   "source": [
    "#gr.seek(0)"
   ]
  },
  {
   "cell_type": "code",
   "execution_count": 6,
   "id": "2571c915-6843-4679-b7b0-461cfe64f776",
   "metadata": {},
   "outputs": [],
   "source": [
    "#g=gr[1]"
   ]
  },
  {
   "cell_type": "code",
   "execution_count": 7,
   "id": "2938991e-8cfa-478c-8360-60a0e41e6ece",
   "metadata": {},
   "outputs": [],
   "source": [
    "#g"
   ]
  },
  {
   "cell_type": "code",
   "execution_count": 8,
   "id": "fb4c7471-6ed6-426b-aa41-0d55981aee77",
   "metadata": {},
   "outputs": [],
   "source": [
    "ds=xr.open_dataset('adaptor.mars.internal-1671443373.6018586-10985-9-83ca679c-f487-45c5-8b32-3cc121d725c8.grib', engine='cfgrib')\n",
    "#ds"
   ]
  },
  {
   "cell_type": "code",
   "execution_count": 9,
   "id": "bf5f5a50-4f33-445d-9d9e-fbc9dd388b17",
   "metadata": {},
   "outputs": [],
   "source": [
    "#plt.imshow(g.values)"
   ]
  },
  {
   "cell_type": "code",
   "execution_count": 10,
   "id": "a2d975a5-5928-4c3a-b9b3-55e054176659",
   "metadata": {},
   "outputs": [],
   "source": [
    "df = ds.to_dataframe()"
   ]
  },
  {
   "cell_type": "code",
   "execution_count": 11,
   "id": "e85289c4-d388-4157-960c-a1a76ccfe2d4",
   "metadata": {},
   "outputs": [],
   "source": [
    "#df = df.to_csv('df.csv')"
   ]
  },
  {
   "cell_type": "code",
   "execution_count": 13,
   "id": "35b1e8d8-7c13-471d-b766-73b8ddf6b57b",
   "metadata": {},
   "outputs": [],
   "source": [
    "df = df.to_csv('df.txt')\n"
   ]
  },
  {
   "cell_type": "code",
   "execution_count": null,
   "id": "30f4325f-243c-4c30-9e07-85ffe75a9627",
   "metadata": {},
   "outputs": [],
   "source": []
  },
  {
   "cell_type": "code",
   "execution_count": null,
   "id": "28113594-a15b-4683-a589-93daf64b8485",
   "metadata": {},
   "outputs": [],
   "source": [
    "#df=pd.DataFrame(darray, index=False, columns=['number', 'time', 'step', 'surface', 'latitude', 'longtitude', 'valid_time'], dtype=None, copy=None)"
   ]
  },
  {
   "cell_type": "code",
   "execution_count": null,
   "id": "0ab7d821-44ea-46fd-abfa-bdfcb21a0343",
   "metadata": {},
   "outputs": [],
   "source": [
    "#df = darray.to_dataset(\"variable\")"
   ]
  },
  {
   "cell_type": "code",
   "execution_count": null,
   "id": "ac3f471a-1604-4b18-aa82-f16ff0aecdd1",
   "metadata": {},
   "outputs": [],
   "source": [
    "df = darray.to_csv(\"mydata.csv\")"
   ]
  },
  {
   "cell_type": "code",
   "execution_count": null,
   "id": "01a3d1ec-de0a-4e69-b029-e7ffaec08732",
   "metadata": {},
   "outputs": [],
   "source": []
  }
 ],
 "metadata": {
  "kernelspec": {
   "display_name": "Python 3 (ipykernel)",
   "language": "python",
   "name": "python3"
  },
  "language_info": {
   "codemirror_mode": {
    "name": "ipython",
    "version": 3
   },
   "file_extension": ".py",
   "mimetype": "text/x-python",
   "name": "python",
   "nbconvert_exporter": "python",
   "pygments_lexer": "ipython3",
   "version": "3.9.13"
  }
 },
 "nbformat": 4,
 "nbformat_minor": 5
}
